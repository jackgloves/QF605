{
 "cells": [
  {
   "cell_type": "markdown",
   "id": "8e364462",
   "metadata": {},
   "source": [
    "## Part IV Decompounded Options"
   ]
  },
  {
   "cell_type": "code",
   "execution_count": 1,
   "id": "7bb9cead",
   "metadata": {},
   "outputs": [],
   "source": [
    "import warnings\n",
    "warnings.filterwarnings('ignore')\n",
    "\n",
    "import pandas as pd\n",
    "import numpy as np\n",
    "import matplotlib.pyplot as plt\n",
    "from scipy.stats import norm\n",
    "from scipy import interpolate\n",
    "from math import log, sqrt, exp\n",
    "from scipy import integrate"
   ]
  },
  {
   "cell_type": "markdown",
   "id": "1ab3e677",
   "metadata": {},
   "source": [
    "### Import forward swap, discount factors"
   ]
  },
  {
   "cell_type": "code",
   "execution_count": 2,
   "id": "cdb9133e",
   "metadata": {},
   "outputs": [],
   "source": [
    "data_FS = pd.read_csv('forward_swap.csv', header = 0, index_col = 0)\n",
    "data_FS = data_FS.rename(columns={'Expiry in year(s)':'Expiry','Tenor in year(s)':'Tenor','Par_Swap_Rate':'Swap_Rate'})\n",
    "\n",
    "data_DF = pd.read_csv('oi_libor_disfactors.csv', header = 0, index_col = 0)\n",
    "data_DF = data_DF.rename(columns={'d_l':'LIBOR_DF','tenor':'Tenor','ois_rate':'Rate','f_o':'f','d_o':'OIS_DF','irs_rate':'IRS','f_l':'Libor'})"
   ]
  },
  {
   "cell_type": "markdown",
   "id": "3a73c0e5",
   "metadata": {},
   "source": [
    "### Get SABR parameters"
   ]
  },
  {
   "cell_type": "code",
   "execution_count": 3,
   "id": "a3362c2d",
   "metadata": {},
   "outputs": [],
   "source": [
    "data_alpha = pd.read_csv('SABR_alpha.csv', header = 0, index_col = 0)\n",
    "data_rho = pd.read_csv('SABR_rho.csv', header = 0, index_col = 0)\n",
    "data_nu = pd.read_csv('SABR_nu.csv', header = 0, index_col = 0)"
   ]
  },
  {
   "cell_type": "code",
   "execution_count": 4,
   "id": "234761b7",
   "metadata": {},
   "outputs": [
    {
     "data": {
      "text/html": [
       "<div>\n",
       "<style scoped>\n",
       "    .dataframe tbody tr th:only-of-type {\n",
       "        vertical-align: middle;\n",
       "    }\n",
       "\n",
       "    .dataframe tbody tr th {\n",
       "        vertical-align: top;\n",
       "    }\n",
       "\n",
       "    .dataframe thead th {\n",
       "        text-align: right;\n",
       "    }\n",
       "</style>\n",
       "<table border=\"1\" class=\"dataframe\">\n",
       "  <thead>\n",
       "    <tr style=\"text-align: right;\">\n",
       "      <th></th>\n",
       "      <th>1Y</th>\n",
       "      <th>2Y</th>\n",
       "      <th>3Y</th>\n",
       "      <th>5Y</th>\n",
       "      <th>10Y</th>\n",
       "    </tr>\n",
       "  </thead>\n",
       "  <tbody>\n",
       "    <tr>\n",
       "      <th>1Y</th>\n",
       "      <td>0.139070</td>\n",
       "      <td>0.184651</td>\n",
       "      <td>0.196851</td>\n",
       "      <td>0.178052</td>\n",
       "      <td>0.170749</td>\n",
       "    </tr>\n",
       "    <tr>\n",
       "      <th>5Y</th>\n",
       "      <td>0.166527</td>\n",
       "      <td>0.199497</td>\n",
       "      <td>0.210348</td>\n",
       "      <td>0.191091</td>\n",
       "      <td>0.177421</td>\n",
       "    </tr>\n",
       "    <tr>\n",
       "      <th>10Y</th>\n",
       "      <td>0.177383</td>\n",
       "      <td>0.195282</td>\n",
       "      <td>0.207103</td>\n",
       "      <td>0.201575</td>\n",
       "      <td>0.181396</td>\n",
       "    </tr>\n",
       "  </tbody>\n",
       "</table>\n",
       "</div>"
      ],
      "text/plain": [
       "           1Y        2Y        3Y        5Y       10Y\n",
       "1Y   0.139070  0.184651  0.196851  0.178052  0.170749\n",
       "5Y   0.166527  0.199497  0.210348  0.191091  0.177421\n",
       "10Y  0.177383  0.195282  0.207103  0.201575  0.181396"
      ]
     },
     "execution_count": 4,
     "metadata": {},
     "output_type": "execute_result"
    }
   ],
   "source": [
    "data_alpha"
   ]
  },
  {
   "cell_type": "code",
   "execution_count": 5,
   "id": "c718369f",
   "metadata": {},
   "outputs": [],
   "source": [
    "alpha = data_alpha.loc['5Y','10Y']\n",
    "rho = data_rho.loc['5Y','10Y']\n",
    "nu = data_nu.loc['5Y','10Y']\n",
    "# Beta is predefined in part 2, beta=0.9"
   ]
  },
  {
   "cell_type": "markdown",
   "id": "f0a99c7f",
   "metadata": {},
   "source": [
    "### Define SABR model"
   ]
  },
  {
   "cell_type": "code",
   "execution_count": 6,
   "id": "17f13b3d",
   "metadata": {},
   "outputs": [],
   "source": [
    "def SABR(F, K, T, alpha, beta, rho, nu):\n",
    "    \n",
    "    \"\"\"\n",
    "    Calculate the SABR volatility for a given set of parameters and market data.\n",
    "    \n",
    "    Parameters:\n",
    "    alpha (float): initial volatility level\n",
    "    beta (float): elasticity of volatility with respect to asset price\n",
    "    rho (float): correlation between asset price and volatility\n",
    "    nu (float): volatility of volatility\n",
    "    F (float): forward price\n",
    "    K (float): strike price\n",
    "    T (float): time to maturity (in years)\n",
    "    \n",
    "    Returns:\n",
    "    float: the SABR volatility\n",
    "    \"\"\"\n",
    "        \n",
    "    X = K\n",
    "    # if K is at-the-money-forward\n",
    "    if abs(F - K) < 1e-12:\n",
    "        numer1 = (((1 - beta)**2)/24)*alpha*alpha/(F**(2 - 2*beta))\n",
    "        numer2 = 0.25*rho*beta*nu*alpha/(F**(1 - beta))\n",
    "        numer3 = ((2 - 3*rho*rho)/24)*nu*nu\n",
    "        VolAtm = alpha*(1 + (numer1 + numer2 + numer3)*T)/(F**(1-beta))\n",
    "        sabrsigma = VolAtm\n",
    "    else:\n",
    "        z = (nu/alpha)*((F*X)**(0.5*(1-beta)))*log(F/X)\n",
    "        zhi = log((((1 - 2*rho*z + z*z)**0.5) + z - rho)/(1 - rho))\n",
    "        numer1 = (((1 - beta)**2)/24)*((alpha*alpha)/((F*X)**(1 - beta)))\n",
    "        numer2 = 0.25*rho*beta*nu*alpha/((F*X)**((1 - beta)/2))\n",
    "        numer3 = ((2 - 3*rho*rho)/24)*nu*nu\n",
    "        numer = alpha*(1 + (numer1 + numer2 + numer3)*T)*z\n",
    "        denom1 = ((1 - beta)**2/24)*(log(F/X))**2\n",
    "        denom2 = (((1 - beta)**4)/1920)*((log(F/X))**4)\n",
    "        denom = ((F*X)**((1 - beta)/2))*(1 + denom1 + denom2)*zhi\n",
    "        sabrsigma = numer/denom\n",
    "\n",
    "    return sabrsigma"
   ]
  },
  {
   "cell_type": "code",
   "execution_count": 7,
   "id": "51bdca1a",
   "metadata": {},
   "outputs": [
    {
     "name": "stdout",
     "output_type": "stream",
     "text": [
      "SABR volatility: 0.0316890806831793\n"
     ]
    }
   ],
   "source": [
    "# test sample inputs\n",
    "alpha_ = 0.2\n",
    "beta_ = 0.5\n",
    "rho_ = -0.25\n",
    "nu_ = 0.4\n",
    "F_ = 100\n",
    "K_ = 90\n",
    "T_ = 1\n",
    "\n",
    "# calculate the SABR volatility\n",
    "vol = SABR(F_, K_, T_, alpha_, beta_, rho_, nu_)\n",
    "\n",
    "# print the result\n",
    "print(\"SABR volatility:\", vol)"
   ]
  },
  {
   "cell_type": "markdown",
   "id": "ee7f52a4",
   "metadata": {},
   "source": [
    "### Deine Black76 model"
   ]
  },
  {
   "cell_type": "code",
   "execution_count": 8,
   "id": "f529fb5d",
   "metadata": {},
   "outputs": [],
   "source": [
    "from scipy.stats import norm\n",
    "import math\n",
    "\n",
    "def black76_lognormal(option_type, F, K, r, sigma, T):\n",
    "    \"\"\"\n",
    "    Calculate the Black76 option price for a given set of market data.\n",
    "    \n",
    "    Parameters:\n",
    "    option_type (str): 'call' or 'put'\n",
    "    F (float): forward price\n",
    "    K (float): strike price\n",
    "    r (float): risk-free interest rate\n",
    "    sigma (float): annualized volatility\n",
    "    T (float): time to maturity (in years)\n",
    "    \n",
    "    Returns:\n",
    "    float: the Black76 option price\n",
    "    \"\"\"\n",
    "    # calculate the option price\n",
    "    d1 = (math.log(F / K) + ((sigma ** 2) / 2) * T) / (sigma * math.sqrt(T))\n",
    "    d2 = d1 - sigma * math.sqrt(T)\n",
    "    \n",
    "    if option_type == 'Call':\n",
    "        option_price = F * math.exp(-r * T) * norm.cdf(d1) - K * math.exp(-r * T) * norm.cdf(d2)\n",
    "    elif option_type == 'Put':\n",
    "        option_price = K * math.exp(-r * T) * norm.cdf(-d2) - F * math.exp(-r * T) * norm.cdf(-d1)\n",
    "    else:\n",
    "        raise ValueError(\"Option type must be 'Call' or 'Put'.\")\n",
    "    \n",
    "    return option_price"
   ]
  },
  {
   "cell_type": "markdown",
   "id": "b68273e7",
   "metadata": {},
   "source": [
    "For static replication of any constant maturity swap (CMS) payoff $g(F)$, where $F$ is the swap rate, we use the following formula:\n",
    "\n",
    "  \\begin{equation*}\n",
    "    \\begin{split}\n",
    "      V_0 &= D(0,T) g(F) + h'(F)[V^{pay}(F)-V^{rec}(F)] \\\\\n",
    "      &\\;\\;\\;\\;\\;\\;\\;\\;\\;\\;+ \\int_0^F h''(K) V^{rec}(K) dK +\n",
    "      \\int_F^\\infty h''(K) V^{pay}(K) dK\n",
    "    \\end{split}\n",
    "  \\end{equation*}\n",
    "\n",
    "where\n",
    "\n",
    "  \\begin{equation*}\n",
    "    \\begin{split}\n",
    "      h(K) &= \\frac{g(K)}{\\mbox{IRR}(K)} \\\\\n",
    "      h'(K) &= \\frac{\\mbox{IRR}(K)g'(K) - g(K)\\mbox{IRR}'(K)}{\\mbox{IRR}(K)^2} \\\\\n",
    "      h''(K) &= \\frac{\\mbox{IRR}(K)g''(K)-\\mbox{IRR}''(K)g(K) -2\\cdot\\mbox{IRR}'(K)g'(K)}{\\mbox{IRR}(K)^2} \\\\\n",
    "      &\\;\\;\\;\\;\\;\\;\\;\\;\\;\\;+\n",
    "      \\frac{2\\cdot\\mbox{IRR}'(K)^2g(K)}{\\mbox{IRR}(K)^3}.\n",
    "    \\end{split}\n",
    "  \\end{equation*}\n",
    "  \n",
    "For CMS rate payoff, the payoff function can be defined simply as $g(F)=F$, and the static replication formula simplifies into:\n",
    "\n",
    "  \\begin{equation*}\n",
    "    \\begin{split}\n",
    "      D(0,T) F + \\int_0^F h''(K) V^{rec}(K) dK + \\int_F^\\infty h''(K) V^{pay}(K) dK\n",
    "    \\end{split}\n",
    "  \\end{equation*}\n",
    "\n",
    "We can implement this in Python. First we define the IRR functions."
   ]
  },
  {
   "cell_type": "markdown",
   "id": "ae3d48dc",
   "metadata": {},
   "source": [
    "Let $m$ denote the payment frequenc ($m=2$ for semi-annual payment frequency), and let $N = T_N-T_n$ denote the tenor of the swap (number of years), the partial derivatives on the IRR function $\\mbox{IRR}(S)$ given by:\n",
    "\\begin{equation*}\n",
    "\\begin{split}\n",
    "\\mbox{IRR}(K)&=\\sum_{i=1}^{N\\times m}\\frac{1}{(1+\\frac{K}{m})^i}=\\frac{1}{K}\\left[1-\\frac{1}{\\left(1+\\frac{K}{m}\\right)^{N\\times m}}\\right]\\\\\n",
    "\\mbox{IRR}'(K)&=-\\frac{1}{K}\\mbox{IRR}(K)\n",
    "+\\frac{1}{m\\times K}\\frac{N\\times m}{\\left(1+\\frac{K}{m}\\right)^{N\\times m+1}} \\\\\n",
    "\\mbox{IRR}''(K)&=-\\frac{2}{K}\\mbox{IRR}'(K)\n",
    "-\\frac{1}{m^2\\times K}\\frac{N\\times m\\cdot (N\\times m+1)}{\\left(1+\\frac{K}{m}\\right)^{N\\times m+2}} \\\\\n",
    "\\end{split}\n",
    "\\end{equation*}\n",
    "\n",
    "These results will need to be generalised to handle the case for $m=2$ to be consistent with the semi-annual payment frequency swap market data provided.\n"
   ]
  },
  {
   "cell_type": "code",
   "execution_count": 9,
   "id": "3ab63289",
   "metadata": {},
   "outputs": [],
   "source": [
    "def IRR_0(K, m, N):\n",
    "    # implementation of IRR(K) function\n",
    "    value = 1/K * ( 1.0 - 1/(1 + K/m)**(N*m) )\n",
    "    return value\n",
    "\n",
    "def IRR_1(K, m, N):\n",
    "    # implementation of IRR'(K) function (1st derivative)\n",
    "    firstDerivative = -1/K*IRR_0(K, m, N) + 1/(K*m)*N*m/(1+K/m)**(N*m+1)\n",
    "    return firstDerivative\n",
    "\n",
    "def IRR_2(K, m, N):\n",
    "    # implementation of IRR''(K) function (2nd derivative)\n",
    "    secondDerivative = -2/K*IRR_1(K, m, N) - 1/(K*m*m)*(N*m)*(N*m+1)/(1+K/m)**(N*m+2)\n",
    "    return secondDerivative"
   ]
  },
  {
   "cell_type": "markdown",
   "id": "3cd45697",
   "metadata": {},
   "source": [
    "## Question 1"
   ]
  },
  {
   "cell_type": "markdown",
   "id": "82b919d5",
   "metadata": {},
   "source": [
    "For this CMS rate payment, since $g(F)=$$F^{\\frac{1}{4}}$$-0.2$, we have the derivatives:\n",
    "\n",
    "\\begin{equation*}\n",
    "\\begin{split}\n",
    "g(K) &= K^{\\frac{1}{4}}-0.2 \\\\\n",
    "g'(K) &= {\\frac{1}{4}}K^{-\\frac{3}{4}} \\\\\n",
    "g''(K) &= {-\\frac{3}{16}}K^{-\\frac{7}{4}} \\\\\n",
    "\\end{split}\n",
    "\\end{equation*}"
   ]
  },
  {
   "cell_type": "code",
   "execution_count": 10,
   "id": "1d55d75e",
   "metadata": {},
   "outputs": [],
   "source": [
    "def g_0(K):\n",
    "    return K**(1/4) -0.2\n",
    "\n",
    "def g_1(K):\n",
    "    return (1/4)*K**(-3/4)\n",
    "\n",
    "def g_2(K):\n",
    "    return -(3/16)*K**(-7/4)"
   ]
  },
  {
   "cell_type": "markdown",
   "id": "0a6d577c",
   "metadata": {},
   "source": [
    "  \\begin{equation*}\n",
    "    \\begin{split}\n",
    "      h(K) &= \\frac{g(K)}{\\mbox{IRR}(K)} \\\\\n",
    "      h'(K) &= \\frac{\\mbox{IRR}(K)g'(K) - g(K)\\mbox{IRR}'(K)}{\\mbox{IRR}(K)^2} \\\\\n",
    "      h''(K) &= \\frac{\\mbox{IRR}(K)g''(K)-\\mbox{IRR}''(K)g(K) -2\\cdot\\mbox{IRR}'(K)g'(K)}{\\mbox{IRR}(K)^2} \\\\\n",
    "      &\\;\\;\\;\\;\\;\\;\\;\\;\\;\\;+\n",
    "      \\frac{2\\cdot\\mbox{IRR}'(K)^2g(K)}{\\mbox{IRR}(K)^3}.\n",
    "    \\end{split}\n",
    "  \\end{equation*}"
   ]
  },
  {
   "cell_type": "code",
   "execution_count": 11,
   "id": "c2208fe8",
   "metadata": {},
   "outputs": [],
   "source": [
    "def h_0(K, m, N):\n",
    "    # implementation of h(K)\n",
    "    value = g_0(K) / IRR_0(K, m, N)\n",
    "    return value\n",
    "\n",
    "def h_1(K, m, N):\n",
    "    # implementation of h'(K) (1st derivative)\n",
    "    firstDerivative = (IRR_0(K, m, N)*g_1(K) - g_0(K)*IRR_1(K, m, N)) / (IRR_0(K, m, N)**2)\n",
    "    return firstDerivative\n",
    "\n",
    "def h_2(K, m, N):\n",
    "    # implementation of h''(K) (2nd derivative)\n",
    "    secondDerivative = ((IRR_0(K, m, N)*g_2(K) - IRR_2(K, m, N)*g_0(K) - 2.0*IRR_1(K, m, N)*g_1(K))/IRR_0(K, m, N)**2 \n",
    "                        + 2.0*IRR_1(K, m, N)**2*g_0(K)/IRR_0(K, m, N)**3)\n",
    "    return secondDerivative"
   ]
  },
  {
   "cell_type": "markdown",
   "id": "8ccaad1f",
   "metadata": {},
   "source": [
    "We will also need to implement the IRR-settled payer and receiver swaption formulae:\n",
    "\n",
    "  \\begin{equation*}\n",
    "    \\begin{split}\n",
    "      V^{pay}_{n,N}(0) &= D(0,T_n) \\cdot \\mbox{IRR}(S_{n,N}(0)) \\cdot \\mbox{Black76Call}(S_{n,N}(0),K,\\sigma_{n,N},T) \\\\\n",
    "      V^{rec}_{n,N}(0) &= D(0,T_n) \\cdot \\mbox{IRR}(S_{n,N}(0)) \\cdot \\mbox{Black76Put}(S_{n,N}(0),K,\\sigma_{n,N},T) \\\\\n",
    "    \\end{split}\n",
    "  \\end{equation*}\n",
    "\n",
    "where $S_{n,N}(0)=F$ is today's forward swap rate calculated based on the curves we bootstrapped, and $\\sigma_{n,N}$ is the SABR implied volatility calibrated to swaption market data."
   ]
  },
  {
   "cell_type": "markdown",
   "id": "08510425",
   "metadata": {},
   "source": [
    "### Value the payoff"
   ]
  },
  {
   "cell_type": "markdown",
   "id": "1879b5d8",
   "metadata": {},
   "source": [
    "  \\begin{equation*}\n",
    "    \\begin{split}\n",
    "      V_0 &= D(0,T) g(F) + h'(F)[V^{pay}(F)-V^{rec}(F)] \\\\\n",
    "      &\\;\\;\\;\\;\\;\\;\\;\\;\\;\\;+ \\int_0^F h''(K) V^{rec}(K) dK +\n",
    "      \\int_F^\\infty h''(K) V^{pay}(K) dK\n",
    "    \\end{split}\n",
    "  \\end{equation*}"
   ]
  },
  {
   "cell_type": "code",
   "execution_count": 12,
   "id": "3adaa424",
   "metadata": {},
   "outputs": [
    {
     "name": "stdout",
     "output_type": "stream",
     "text": [
      "Question 1 Payoff: 0.24986290267550515\n"
     ]
    }
   ],
   "source": [
    "# To get sigma for Black76, we need repvious SABR\n",
    "F = data_FS.iloc[9,2] # Forward Swap from part 1(5 years Expiry, 10 years tenor)\n",
    "T = 5\n",
    "# SABR(F, K, T, alpha, 0.9, rho, nu)\n",
    "\n",
    "DT = data_DF.iloc[9,3] # Discount factor (5 years Expiry, 10 years tenor)\n",
    "m = 2 # Semi-annual \n",
    "N = 10 # Tenor\n",
    "\n",
    "V_pay = integrate.quad(lambda k: h_2(k, m, N)*black76_lognormal('Call', F, k, 0, SABR(F, k, T, alpha, 0.9, rho, nu), T), F, 1000)\n",
    "V_rec = integrate.quad(lambda k: h_2(k, m, N)*black76_lognormal('Put', F, k, 0, SABR(F, k, T, alpha, 0.9, rho, nu), T), 0, F)\n",
    "\n",
    "V_0 = DT * g_0(F) + V_rec[0] + V_pay[0] # The second term should be zero\n",
    "print(\"Question 1 Payoff:\", V_0)"
   ]
  },
  {
   "cell_type": "markdown",
   "id": "d440ef9e",
   "metadata": {},
   "source": [
    "## Question 2"
   ]
  },
  {
   "cell_type": "markdown",
   "id": "20787a71",
   "metadata": {},
   "source": [
    "  \\begin{equation*}\n",
    "    \\begin{split}\n",
    "      Caplet &= h'(X)V^{pay}(X) \n",
    "      &\\;+ \n",
    "      \\int_X^\\infty h''(K) V^{pay}(K) dK\n",
    "    \\end{split}\n",
    "  \\end{equation*}"
   ]
  },
  {
   "cell_type": "code",
   "execution_count": 13,
   "id": "41336329",
   "metadata": {},
   "outputs": [],
   "source": [
    "# F**(1/4) > 0.2, F > 0.0016\n",
    "X = 0.0016"
   ]
  },
  {
   "cell_type": "code",
   "execution_count": 14,
   "id": "0203cdcd",
   "metadata": {},
   "outputs": [
    {
     "name": "stdout",
     "output_type": "stream",
     "text": [
      "Question 2 Payoff: 0.031030476391866207\n"
     ]
    }
   ],
   "source": [
    "V_pay = integrate.quad(lambda k: h_2(k, m, N)*black76_lognormal('Call', F, k, 0, SABR(F, k, T, alpha, 0.9, rho, nu), T), X, 1000)\n",
    "h_1_term = h_1(X, m, N)*black76_lognormal('Call', F, X, 0, SABR(F, X, T, alpha, 0.9, rho, nu), T)\n",
    "                                          \n",
    "V_caplet = h_1_term + V_pay[0]\n",
    "print(\"Question 2 Payoff:\", V_caplet)"
   ]
  }
 ],
 "metadata": {
  "kernelspec": {
   "display_name": "Python 3 (ipykernel)",
   "language": "python",
   "name": "python3"
  },
  "language_info": {
   "codemirror_mode": {
    "name": "ipython",
    "version": 3
   },
   "file_extension": ".py",
   "mimetype": "text/x-python",
   "name": "python",
   "nbconvert_exporter": "python",
   "pygments_lexer": "ipython3",
   "version": "3.9.15"
  }
 },
 "nbformat": 4,
 "nbformat_minor": 5
}
